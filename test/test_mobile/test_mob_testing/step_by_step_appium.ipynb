{
 "cells": [
  {
   "cell_type": "markdown",
   "id": "5c0eeabd-370c-4823-9b64-f98e19b35df0",
   "metadata": {},
   "source": [
    "### Make sure you have executed `appium` command in terminal to start appium server"
   ]
  },
  {
   "cell_type": "code",
   "execution_count": 1,
   "id": "46f2fc79-219a-4724-8f41-ce94052e1037",
   "metadata": {},
   "outputs": [],
   "source": [
    "from logging import Logger\n",
    "from os.path import isfile\n",
    "from pathlib import Path\n",
    "from subprocess import Popen\n",
    "from os import environ\n",
    "import pytest\n",
    "from appium import webdriver\n",
    "from devtools_ai.appium import SmartDriver"
   ]
  },
  {
   "cell_type": "code",
   "execution_count": 2,
   "id": "5debcde2-b20f-46ca-8284-47afce1b74b6",
   "metadata": {},
   "outputs": [],
   "source": [
    "from logging import Logger\n",
    "from time import sleep\n",
    "from typing import Final\n",
    "import pytest\n",
    "from appium.webdriver import WebElement\n",
    "from devtools_ai.appium import SmartDriver\n",
    "from appium.webdriver.common.mobileby import MobileBy\n",
    "from selenium.webdriver.support.ui import WebDriverWait\n",
    "from selenium.webdriver.support import expected_conditions as EC"
   ]
  },
  {
   "cell_type": "code",
   "execution_count": 3,
   "id": "f4f320af-99e3-463f-b562-050f90447164",
   "metadata": {},
   "outputs": [],
   "source": [
    "# TODO put this in some library\n",
    "def is_blank (myString):\n",
    "    return not (myString and myString.strip())\n",
    "\n",
    "def is_not_blank (myString):\n",
    "    return bool(myString and myString.strip())"
   ]
  },
  {
   "cell_type": "code",
   "execution_count": 4,
   "id": "2f847f3d-6df9-4d6b-b995-bbb09a79cba6",
   "metadata": {},
   "outputs": [
    {
     "data": {
      "text/plain": [
       "'/Users/gp/Dropbox/projects/qa_scenarios/test/test_mobile/test_mob_testing'"
      ]
     },
     "execution_count": 4,
     "metadata": {},
     "output_type": "execute_result"
    }
   ],
   "source": [
    "%pwd"
   ]
  },
  {
   "cell_type": "code",
   "execution_count": 5,
   "id": "3708831c-1605-4cf0-b7e2-e7ebef3ee067",
   "metadata": {},
   "outputs": [
    {
     "name": "stdout",
     "output_type": "stream",
     "text": [
      "/Users/gp/Dropbox/projects/qa_scenarios\n"
     ]
    }
   ],
   "source": [
    "%cd './../../../'"
   ]
  },
  {
   "cell_type": "code",
   "execution_count": 6,
   "id": "93913d1e-7007-47b4-8c53-2cc0c8b8c849",
   "metadata": {},
   "outputs": [
    {
     "data": {
      "text/plain": [
       "'/Users/gp/Dropbox/projects/qa_scenarios'"
      ]
     },
     "execution_count": 6,
     "metadata": {},
     "output_type": "execute_result"
    }
   ],
   "source": [
    "%pwd"
   ]
  },
  {
   "cell_type": "code",
   "execution_count": 7,
   "id": "f9b5c491-c785-4913-8081-bd58b5b4e679",
   "metadata": {},
   "outputs": [],
   "source": [
    "from helpers.cmd_helper import get_android_adb_device\n",
    "from constants import devtools_api_key\n",
    "from helpers.annotation_helpers import drive_smartly"
   ]
  },
  {
   "cell_type": "code",
   "execution_count": 8,
   "id": "d4d18b58-4699-4a4e-9721-f1845e0c1e5e",
   "metadata": {},
   "outputs": [
    {
     "data": {
      "text/plain": [
       "PosixPath('/Users/gp/Dropbox/projects/qa_scenarios/test/test_mobile/test_mob_testing')"
      ]
     },
     "execution_count": 8,
     "metadata": {},
     "output_type": "execute_result"
    }
   ],
   "source": [
    "current_folder = globals()['_dh'][0]\n",
    "current_folder"
   ]
  },
  {
   "cell_type": "code",
   "execution_count": 9,
   "id": "52671e8c-1012-4b61-88f1-916a645c40b0",
   "metadata": {},
   "outputs": [],
   "source": [
    "import matplotlib.pyplot as plt\n",
    "from matplotlib.patches import Rectangle"
   ]
  },
  {
   "cell_type": "code",
   "execution_count": 10,
   "id": "0ee571fc-542b-455e-8089-92fae6cf192a",
   "metadata": {},
   "outputs": [],
   "source": [
    "from random import randint"
   ]
  },
  {
   "cell_type": "code",
   "execution_count": 11,
   "id": "a13eadb9-3ff0-480a-ac45-9a09631f0364",
   "metadata": {},
   "outputs": [
    {
     "data": {
      "text/plain": [
       "4"
      ]
     },
     "execution_count": 11,
     "metadata": {},
     "output_type": "execute_result"
    }
   ],
   "source": [
    "randint(0, 4)"
   ]
  },
  {
   "cell_type": "markdown",
   "id": "559204d4-bbc2-4144-b757-e2b4d38bfd42",
   "metadata": {},
   "source": [
    "### Playing with boxes"
   ]
  },
  {
   "cell_type": "code",
   "execution_count": 12,
   "id": "f679fa04-aa7e-486a-8160-804ef7507dd7",
   "metadata": {},
   "outputs": [],
   "source": [
    "# rect_orig = Rectangle((1, 1), 2, 6, linewidth=1, edgecolor='b', facecolor='#0bba', label='orig')\n",
    "# rect_new = Rectangle((2, 2), 3, 2, linewidth=1, edgecolor='b', facecolor='#fbba', label='new')"
   ]
  },
  {
   "cell_type": "code",
   "execution_count": 13,
   "id": "e5ab3114-134f-48ef-a856-9a7878c012d3",
   "metadata": {},
   "outputs": [],
   "source": [
    "def get_random_rect(xbounds = [0, 10], ybounds = [0, 10], facecolor='#fffa', label='please fill label'):\n",
    "    min_x, max_x = xbounds\n",
    "    min_y, max_y = ybounds\n",
    "\n",
    "    start_x = randint(min_x, max_x-1)\n",
    "    start_x\n",
    "\n",
    "    start_y = randint(min_y, max_y-1)\n",
    "    start_y\n",
    "\n",
    "    width = randint(1, max_x - start_x)\n",
    "    height = randint(1, max_y - start_y)\n",
    "    \n",
    "    return Rectangle((start_x, start_y), width, height, linewidth=1, edgecolor='b', facecolor=facecolor, label=label)"
   ]
  },
  {
   "cell_type": "code",
   "execution_count": 14,
   "id": "2a4781b6-2ed8-465e-bb61-166426f7b72e",
   "metadata": {},
   "outputs": [],
   "source": [
    "def is_falling_on_top(rect_orig: Rectangle, rect_new: Rectangle):\n",
    "    left_dist = rect_orig.get_x() + rect_orig.get_width() - rect_new.get_x()\n",
    "    right_dist = rect_new.get_x() + rect_new.get_width() - rect_orig.get_x()\n",
    "    top_dist = rect_orig.get_y() + rect_orig.get_height() - rect_new.get_y()\n",
    "    bottom_dist = rect_new.get_y() + rect_new.get_height() - rect_orig.get_y()\n",
    "    \n",
    "    return all([cur_dist > 0 for cur_dist in [left_dist, right_dist, top_dist, bottom_dist]])"
   ]
  },
  {
   "cell_type": "code",
   "execution_count": 15,
   "id": "0383e413-63a8-452c-8cba-99716b573a0c",
   "metadata": {},
   "outputs": [],
   "source": [
    "def get_overlapping_rectangle(rect_orig: Rectangle, rect_new: Rectangle, facecolor='#0000', label='overlapping'):\n",
    "    top_left_x = max(rect_orig.get_x(), rect_new.get_x())\n",
    "    top_left_x\n",
    "\n",
    "    top_right_x = min(rect_new.get_x() + rect_new.get_width(), rect_orig.get_x() + rect_orig.get_width())\n",
    "    top_right_x\n",
    "\n",
    "    top_left_y = max(rect_orig.get_y(), rect_new.get_y())\n",
    "    top_left_y\n",
    "\n",
    "    bottom_left_y = min(rect_new.get_y() + rect_new.get_height(), rect_orig.get_y() + rect_orig.get_height())\n",
    "    bottom_left_y\n",
    "\n",
    "    cur_width = top_right_x - top_left_x\n",
    "    assert cur_width > 0\n",
    "\n",
    "    cur_height = bottom_left_y - top_left_y\n",
    "    assert cur_height > 0\n",
    "    \n",
    "    return Rectangle((top_left_x, top_left_y), cur_width, cur_height, linewidth=1, edgecolor='r', facecolor=facecolor, label=label)"
   ]
  },
  {
   "cell_type": "code",
   "execution_count": 16,
   "id": "f14f2a00-6edd-49ca-b841-035ea52bf564",
   "metadata": {},
   "outputs": [],
   "source": [
    "min_x, max_x = [0, 10]\n",
    "min_y, max_y = [0, 10]"
   ]
  },
  {
   "cell_type": "code",
   "execution_count": 47,
   "id": "e567fb20-bfdd-4917-ac03-f1d1a3011ebf",
   "metadata": {},
   "outputs": [
    {
     "data": {
      "image/png": "[encoded data removed]",
      "text/plain": [
       "<Figure size 640x480 with 1 Axes>"
      ]
     },
     "metadata": {},
     "output_type": "display_data"
    },
    {
     "data": {
      "text/plain": [
       "array([[ 9.,  5.],\n",
       "       [10.,  5.],\n",
       "       [10.,  7.],\n",
       "       [ 9.,  7.]])"
      ]
     },
     "execution_count": 47,
     "metadata": {},
     "output_type": "execute_result"
    }
   ],
   "source": [
    "fig, ax = plt.subplots()\n",
    "ax.plot([0,],[0,]) #simply in order to render the box\n",
    "\n",
    "rect_orig = get_random_rect(xbounds = [min_x, max_x], ybounds = [min_y, max_y], facecolor='#0bba', label='orig')\n",
    "rect_new = get_random_rect(xbounds = [min_x, max_x], ybounds = [min_y, max_y], facecolor='#fbba', label='new')\n",
    "\n",
    "ax.add_patch(rect_orig)\n",
    "ax.add_patch(rect_new)\n",
    "\n",
    "if is_falling_on_top(rect_orig, rect_new):\n",
    "    rect_overlap = get_overlapping_rectangle(rect_orig=rect_orig, rect_new=rect_new)\n",
    "    ax.add_patch(rect_overlap)\n",
    "else:\n",
    "    rect_overlap = None\n",
    "    print('NOT overlapping')\n",
    "\n",
    "\n",
    "plt.xlim(min_x, max_x)\n",
    "plt.ylim(min_y, max_y)\n",
    "\n",
    "plt.gca().invert_yaxis()\n",
    "\n",
    "handles = [rect_orig,rect_new]\n",
    "if rect_overlap is not None:\n",
    "    handles += [rect_overlap]\n",
    "    \n",
    "plt.legend(handles=handles)\n",
    "\n",
    "plt.show()\n",
    "\n",
    "rect_overlap.get_corners() if rect_overlap is not None else None"
   ]
  },
  {
   "cell_type": "markdown",
   "id": "a07b3343-130a-4118-86ff-68083baddd2f",
   "metadata": {},
   "source": [
    "# MAIN"
   ]
  },
  {
   "cell_type": "code",
   "execution_count": 9,
   "id": "60467f23-9064-4e34-91f6-6a1abc137d62",
   "metadata": {},
   "outputs": [],
   "source": [
    "apk_path = (Path(current_folder) / Path(\"apps/android/todo_immr_resource_ids.apk\")).resolve()\n",
    "assert isfile(apk_path), f\"apk path should be a valid file, currently is {apk_path}\""
   ]
  },
  {
   "cell_type": "code",
   "execution_count": 10,
   "id": "3fda9cfb-32fd-49c0-b099-408ce92c8a77",
   "metadata": {},
   "outputs": [
    {
     "data": {
      "text/plain": [
       "{'platformName': 'Android',\n",
       " 'deviceName': 'fee361e0',\n",
       " 'appPackage': 'com.immr.immrtodolist',\n",
       " 'app': '/Users/gp/Dropbox/projects/qa_scenarios/test/test_mobile/test_mob_testing/apps/android/todo_immr_resource_ids.apk',\n",
       " 'automationName': 'UiAutomator2',\n",
       " 'newCommandTimeout': 86400}"
      ]
     },
     "execution_count": 10,
     "metadata": {},
     "output_type": "execute_result"
    }
   ],
   "source": [
    "desired_caps = {\n",
    "    \"platformName\": \"Android\",\n",
    "    \"deviceName\": get_android_adb_device(),\n",
    "    \"appPackage\": 'com.immr.immrtodolist',\n",
    "    \"app\": str(apk_path),\n",
    "    \"automationName\": \"UiAutomator2\",\n",
    "    \"newCommandTimeout\": 86400, #timeout after 1 day\n",
    "}\n",
    "desired_caps"
   ]
  },
  {
   "cell_type": "code",
   "execution_count": 11,
   "id": "7861a31b-5f02-41b6-a748-48a257b71b18",
   "metadata": {},
   "outputs": [],
   "source": [
    "driver = webdriver.Remote('http://127.0.0.1:4723/wd/hub', desired_caps)\n",
    "driver.implicitly_wait(5*60) #5 minutes"
   ]
  },
  {
   "cell_type": "code",
   "execution_count": 12,
   "id": "1ace2eab-dd9f-4402-87fd-342a29b23e16",
   "metadata": {},
   "outputs": [
    {
     "data": {
      "text/plain": [
       "<appium.webdriver.webelement.WebElement (session=\"8d56e022-3135-4b11-805e-e22a2cea7341\", element=\"00000000-0000-10a3-ffff-ffff00000015\")>"
      ]
     },
     "execution_count": 12,
     "metadata": {},
     "output_type": "execute_result"
    }
   ],
   "source": [
    "button = WebDriverWait(driver, 10).until(EC.visibility_of_element_located(\n",
    "        [MobileBy.ID, 'btnAddNotes']))\n",
    "button"
   ]
  },
  {
   "cell_type": "code",
   "execution_count": 13,
   "id": "873c226e-8688-4445-ab4d-2a637065ec2a",
   "metadata": {},
   "outputs": [],
   "source": [
    "elems = driver.find_elements(MobileBy.XPATH, './/*')"
   ]
  },
  {
   "cell_type": "code",
   "execution_count": 14,
   "id": "9eeb14c8-0c8f-4128-87bd-ed17c9a9921a",
   "metadata": {},
   "outputs": [],
   "source": [
    "#driver.quit()"
   ]
  },
  {
   "cell_type": "code",
   "execution_count": 15,
   "id": "11791bd2-7ca8-42e9-882b-4bad3689ea5a",
   "metadata": {},
   "outputs": [
    {
     "data": {
      "text/plain": [
       "11"
      ]
     },
     "execution_count": 15,
     "metadata": {},
     "output_type": "execute_result"
    }
   ],
   "source": [
    "len(elems)"
   ]
  },
  {
   "cell_type": "code",
   "execution_count": 16,
   "id": "5dd07eef-d225-4a47-abfc-e7ddb088f1e6",
   "metadata": {},
   "outputs": [
    {
     "data": {
      "text/plain": [
       "['get',\n",
       " 'get_clipboard',\n",
       " 'get_clipboard_text',\n",
       " 'get_cookie',\n",
       " 'get_cookies',\n",
       " 'get_credentials',\n",
       " 'get_device_time',\n",
       " 'get_display_density',\n",
       " 'get_events',\n",
       " 'get_images_similarity',\n",
       " 'get_log',\n",
       " 'get_performance_data',\n",
       " 'get_performance_data_types',\n",
       " 'get_pinned_scripts',\n",
       " 'get_screenshot_as_base64',\n",
       " 'get_screenshot_as_file',\n",
       " 'get_screenshot_as_png',\n",
       " 'get_settings',\n",
       " 'get_system_bars',\n",
       " 'get_window_position',\n",
       " 'get_window_rect',\n",
       " 'get_window_size']"
      ]
     },
     "execution_count": 16,
     "metadata": {},
     "output_type": "execute_result"
    }
   ],
   "source": [
    "[attr for attr in dir(driver) if attr.startswith('get')]"
   ]
  },
  {
   "cell_type": "code",
   "execution_count": 18,
   "id": "071ec469-7dbb-4e91-b12d-845e5387dfdc",
   "metadata": {},
   "outputs": [],
   "source": [
    "# elem.is_displayed(), elem.is_enabled(), elem.is_selected()"
   ]
  },
  {
   "cell_type": "code",
   "execution_count": 19,
   "id": "f6b7dc0a-8722-47b2-933e-5c5da61b8682",
   "metadata": {},
   "outputs": [
    {
     "name": "stdout",
     "output_type": "stream",
     "text": [
      "0  false True\n",
      "1  false True\n",
      "2  false True\n",
      "3  false True\n",
      "4  false True\n",
      "5  false True\n",
      "6 ImmrTodoList false True\n",
      "7  false True\n",
      "8  false True\n",
      "9  false True\n",
      "10 TAMMBAH true True\n"
     ]
    }
   ],
   "source": [
    "for ii, elem in enumerate(elems):\n",
    "    print(ii, elem.text, elem.get_attribute('clickable'), elem.is_displayed())"
   ]
  },
  {
   "cell_type": "code",
   "execution_count": 20,
   "id": "71269eb7-69ee-45b7-b4aa-0bbcfab1b5d0",
   "metadata": {},
   "outputs": [],
   "source": [
    "def get_displayed_leafs():\n",
    "    # https://stackoverflow.com/a/3926682/720484\n",
    "    leafs = driver.find_elements(MobileBy.XPATH, '//*[not(*)]')\n",
    "    displayed_leafs = [elem for elem in leafs if elem.is_displayed()]\n",
    "    for ii, elem in enumerate(displayed_leafs):\n",
    "        rect = elem.rect\n",
    "        size = elem.size\n",
    "        assert rect['height'] == size['height'] and rect['width'] == size['width']\n",
    "        loc = elem.location\n",
    "        assert rect['x'] == loc['x'] and rect['y'] == loc['y']\n",
    "        elem.area = size['height'] * size['width']\n",
    "        elem.box = [loc, {'x': loc['x'] + size['width'], 'y': loc['y'] + size['height']}]\n",
    "    return displayed_leafs"
   ]
  },
  {
   "cell_type": "code",
   "execution_count": 21,
   "id": "3aea07c8-a7ce-4559-9da9-5857832952a7",
   "metadata": {},
   "outputs": [
    {
     "data": {
      "text/plain": [
       "3"
      ]
     },
     "execution_count": 21,
     "metadata": {},
     "output_type": "execute_result"
    }
   ],
   "source": [
    "leafs = get_displayed_leafs()\n",
    "len(leafs)"
   ]
  },
  {
   "cell_type": "code",
   "execution_count": 27,
   "id": "3ac17b27-4f84-40a8-b0f2-fd903cd20762",
   "metadata": {},
   "outputs": [
    {
     "name": "stdout",
     "output_type": "stream",
     "text": [
      "0 ImmrTodoList false 37312 [{'x': 48, 'y': 149}, {'x': 472, 'y': 237}] None ImmrTodoList\n",
      "1  false 1699368 [{'x': 48, 'y': 307}, {'x': 1032, 'y': 2034}] com.immr.immrtodolist:id/rvNotes \n",
      "2 TAMMBAH true 106272 [{'x': 48, 'y': 2064}, {'x': 1032, 'y': 2172}] com.immr.immrtodolist:id/btnAddNotes TAMMBAH\n"
     ]
    }
   ],
   "source": [
    "for ii, elem in enumerate(leafs):\n",
    "    print(ii, elem.text, elem.get_attribute('clickable'), elem.area, elem.box,\n",
    "          elem.get_attribute('resource-id'),\n",
    "          elem.get_attribute('name'))"
   ]
  },
  {
   "cell_type": "code",
   "execution_count": 36,
   "id": "1e3666ef-7f29-4d04-b1aa-91ec63bd8072",
   "metadata": {},
   "outputs": [],
   "source": [
    "def derive_id(elem: WebElement):\n",
    "    rsrc_id = elem.get_attribute('resource-id')\n",
    "    if is_not_blank(rsrc_id):\n",
    "        return rsrc_id\n",
    "    "
   ]
  },
  {
   "cell_type": "code",
   "execution_count": 23,
   "id": "2352b399-5d14-4b06-a197-8b41eaf71856",
   "metadata": {},
   "outputs": [
    {
     "data": {
      "text/plain": [
       "''"
      ]
     },
     "execution_count": 23,
     "metadata": {},
     "output_type": "execute_result"
    }
   ],
   "source": [
    "elem = leafs[1]\n",
    "elem.text"
   ]
  },
  {
   "cell_type": "code",
   "execution_count": 24,
   "id": "8aec59bd-b62b-4816-921b-5005131d45b3",
   "metadata": {},
   "outputs": [
    {
     "data": {
      "text/plain": [
       "'com.immr.immrtodolist:id/rvNotes'"
      ]
     },
     "execution_count": 24,
     "metadata": {},
     "output_type": "execute_result"
    }
   ],
   "source": [
    "elem.get_attribute('resource-id')"
   ]
  },
  {
   "cell_type": "code",
   "execution_count": 25,
   "id": "c1c015b3-6d07-4ac7-8ab9-26a4cb52cc1a",
   "metadata": {},
   "outputs": [
    {
     "data": {
      "text/plain": [
       "''"
      ]
     },
     "execution_count": 25,
     "metadata": {},
     "output_type": "execute_result"
    }
   ],
   "source": [
    "elem.get_attribute('name')"
   ]
  },
  {
   "cell_type": "code",
   "execution_count": 26,
   "id": "f99396af-d595-4ef4-b82f-fa34b4850dda",
   "metadata": {},
   "outputs": [],
   "source": [
    "assert elem.location == elem.location_in_view, 'up until now we have that these two are the same, if this is not true we should learn about it'"
   ]
  },
  {
   "cell_type": "code",
   "execution_count": null,
   "id": "3442a791-6915-4836-a77d-a76a0c4d4d32",
   "metadata": {},
   "outputs": [],
   "source": []
  },
  {
   "cell_type": "code",
   "execution_count": 66,
   "id": "24f4e4a2-86fd-4f8b-9242-f6b33599f7b3",
   "metadata": {},
   "outputs": [
    {
     "data": {
      "text/plain": [
       "{'height': 1727, 'width': 984}"
      ]
     },
     "execution_count": 66,
     "metadata": {},
     "output_type": "execute_result"
    }
   ],
   "source": [
    "elem.size"
   ]
  },
  {
   "cell_type": "code",
   "execution_count": 67,
   "id": "52ae25a9-16ec-4c45-9768-c754334162e1",
   "metadata": {},
   "outputs": [
    {
     "data": {
      "text/plain": [
       "[{'x': 48, 'y': 307}, {'x': 1032, 'y': 2034}]"
      ]
     },
     "execution_count": 67,
     "metadata": {},
     "output_type": "execute_result"
    }
   ],
   "source": [
    "elem.box"
   ]
  },
  {
   "cell_type": "code",
   "execution_count": 69,
   "id": "41b4e7ac-eb4e-45a4-99a3-60923cc31c65",
   "metadata": {},
   "outputs": [
    {
     "data": {
      "text/plain": [
       "1727"
      ]
     },
     "execution_count": 69,
     "metadata": {},
     "output_type": "execute_result"
    }
   ],
   "source": [
    "elem.rect['height']"
   ]
  },
  {
   "cell_type": "code",
   "execution_count": 53,
   "id": "f68fa10b-741c-4266-a982-84b0ff622176",
   "metadata": {},
   "outputs": [
    {
     "data": {
      "text/plain": [
       "['__abstractmethods__',\n",
       " '__annotations__',\n",
       " '__class__',\n",
       " '__delattr__',\n",
       " '__dict__',\n",
       " '__dir__',\n",
       " '__doc__',\n",
       " '__eq__',\n",
       " '__format__',\n",
       " '__ge__',\n",
       " '__getattribute__',\n",
       " '__gt__',\n",
       " '__hash__',\n",
       " '__init__',\n",
       " '__init_subclass__',\n",
       " '__le__',\n",
       " '__lt__',\n",
       " '__module__',\n",
       " '__ne__',\n",
       " '__new__',\n",
       " '__reduce__',\n",
       " '__reduce_ex__',\n",
       " '__repr__',\n",
       " '__setattr__',\n",
       " '__sizeof__',\n",
       " '__str__',\n",
       " '__subclasshook__',\n",
       " '__weakref__',\n",
       " '_abc_impl',\n",
       " '_execute',\n",
       " '_id',\n",
       " '_parent',\n",
       " '_upload',\n",
       " 'accessible_name',\n",
       " 'area',\n",
       " 'aria_role',\n",
       " 'box',\n",
       " 'clear',\n",
       " 'click',\n",
       " 'find_element',\n",
       " 'find_element_by_class_name',\n",
       " 'find_element_by_css_selector',\n",
       " 'find_element_by_id',\n",
       " 'find_element_by_link_text',\n",
       " 'find_element_by_name',\n",
       " 'find_element_by_partial_link_text',\n",
       " 'find_element_by_tag_name',\n",
       " 'find_element_by_xpath',\n",
       " 'find_elements',\n",
       " 'find_elements_by_class_name',\n",
       " 'find_elements_by_css_selector',\n",
       " 'find_elements_by_id',\n",
       " 'find_elements_by_link_text',\n",
       " 'find_elements_by_name',\n",
       " 'find_elements_by_partial_link_text',\n",
       " 'find_elements_by_tag_name',\n",
       " 'find_elements_by_xpath',\n",
       " 'get_attribute',\n",
       " 'get_dom_attribute',\n",
       " 'get_property',\n",
       " 'id',\n",
       " 'is_displayed',\n",
       " 'is_enabled',\n",
       " 'is_selected',\n",
       " 'location',\n",
       " 'location_in_view',\n",
       " 'location_once_scrolled_into_view',\n",
       " 'parent',\n",
       " 'rect',\n",
       " 'screenshot',\n",
       " 'screenshot_as_base64',\n",
       " 'screenshot_as_png',\n",
       " 'send_keys',\n",
       " 'set_text',\n",
       " 'set_value',\n",
       " 'shadow_root',\n",
       " 'size',\n",
       " 'submit',\n",
       " 'tag_name',\n",
       " 'text',\n",
       " 'value_of_css_property']"
      ]
     },
     "execution_count": 53,
     "metadata": {},
     "output_type": "execute_result"
    }
   ],
   "source": [
    "dir(elem)"
   ]
  },
  {
   "cell_type": "code",
   "execution_count": null,
   "id": "e6c8a710-1428-4b93-8130-6c5ce511dcd3",
   "metadata": {},
   "outputs": [],
   "source": []
  },
  {
   "cell_type": "code",
   "execution_count": null,
   "id": "da947b97-61b9-457e-9078-dd05d3df4f00",
   "metadata": {},
   "outputs": [],
   "source": []
  },
  {
   "cell_type": "code",
   "execution_count": null,
   "id": "47f997c5-5e19-4f1e-9744-9a92dcfe80b7",
   "metadata": {},
   "outputs": [],
   "source": []
  },
  {
   "cell_type": "code",
   "execution_count": 26,
   "id": "2f63d420-b712-4b14-8304-3f2047472f74",
   "metadata": {},
   "outputs": [],
   "source": [
    "# elem.click()"
   ]
  },
  {
   "cell_type": "code",
   "execution_count": 48,
   "id": "8ef0a2fb-af20-4967-b22e-d4ade45650ce",
   "metadata": {},
   "outputs": [
    {
     "data": {
      "text/plain": [
       "7"
      ]
     },
     "execution_count": 48,
     "metadata": {},
     "output_type": "execute_result"
    }
   ],
   "source": [
    "leafs = driver.find_elements(MobileBy.XPATH, '//*[not(*)]')\n",
    "len(leafs)"
   ]
  },
  {
   "cell_type": "code",
   "execution_count": 62,
   "id": "1615ac1e-8fca-4061-9eea-2ec5c870324b",
   "metadata": {},
   "outputs": [
    {
     "name": "stdout",
     "output_type": "stream",
     "text": [
      "0 ImmrTodoList false True\n",
      "1 Masukkan Judul true True\n",
      "2  false True\n",
      "3 Masukkan Deskripsi true True\n",
      "4  false True\n",
      "5  false True\n",
      "6 SIMPAN true True\n"
     ]
    }
   ],
   "source": [
    "for ii, elem in enumerate(leafs):\n",
    "    print(ii, elem.text, elem.get_attribute('clickable'), elem.is_displayed())"
   ]
  },
  {
   "cell_type": "code",
   "execution_count": 64,
   "id": "c51752cf-d668-45d8-9455-efdbec7f4d67",
   "metadata": {},
   "outputs": [
    {
     "data": {
      "text/plain": [
       "'SIMPAN'"
      ]
     },
     "execution_count": 64,
     "metadata": {},
     "output_type": "execute_result"
    }
   ],
   "source": [
    "elem.text"
   ]
  },
  {
   "cell_type": "code",
   "execution_count": 55,
   "id": "4f7cc9db-9b60-4e8d-9c31-b4826d2e8f5f",
   "metadata": {},
   "outputs": [
    {
     "data": {
      "text/plain": [
       "['get_attribute', 'get_dom_attribute', 'get_property']"
      ]
     },
     "execution_count": 55,
     "metadata": {},
     "output_type": "execute_result"
    }
   ],
   "source": [
    "[attr for attr in dir(elem) if attr.startswith('get')]"
   ]
  },
  {
   "cell_type": "markdown",
   "id": "4f19a74a-5d6f-456b-8692-ef943eff8640",
   "metadata": {},
   "source": [
    "Message: 'id' attribute is unknown for the element. Only the following attributes are supported: [checkable, checked, {class,className}, clickable, {content-desc,contentDescription}, enabled, focusable, focused, {long-clickable,longClickable}, package, password, {resource-id,resourceId}, scrollable, selection-start, selection-end, selected, {text,name}, bounds, displayed, contentSize]"
   ]
  },
  {
   "cell_type": "code",
   "execution_count": 44,
   "id": "4afb92de-6501-4399-af52-a81029e07c70",
   "metadata": {},
   "outputs": [
    {
     "data": {
      "text/plain": [
       "'TAMMBAH'"
      ]
     },
     "execution_count": 44,
     "metadata": {},
     "output_type": "execute_result"
    }
   ],
   "source": [
    "elem.get_attribute('name')"
   ]
  },
  {
   "cell_type": "code",
   "execution_count": 58,
   "id": "bf47269d-1190-411d-831f-5acbc71939b2",
   "metadata": {},
   "outputs": [
    {
     "data": {
      "text/plain": [
       "'com.immr.immrtodolist:id/btnAdd'"
      ]
     },
     "execution_count": 58,
     "metadata": {},
     "output_type": "execute_result"
    }
   ],
   "source": [
    "elem.get_attribute('resource-id')"
   ]
  },
  {
   "cell_type": "code",
   "execution_count": 59,
   "id": "348e70d2-9f25-4fcd-b17f-e90924edc3ab",
   "metadata": {},
   "outputs": [
    {
     "data": {
      "text/plain": [
       "{'height': 144, 'width': 984}"
      ]
     },
     "execution_count": 59,
     "metadata": {},
     "output_type": "execute_result"
    }
   ],
   "source": [
    "elem.size"
   ]
  },
  {
   "cell_type": "code",
   "execution_count": 65,
   "id": "4f96f0c2-8711-4a32-8ef7-8b4674e16bf3",
   "metadata": {},
   "outputs": [
    {
     "data": {
      "text/plain": [
       "'Masukkan Judul'"
      ]
     },
     "execution_count": 65,
     "metadata": {},
     "output_type": "execute_result"
    }
   ],
   "source": [
    "elem = leafs[1]\n",
    "elem.text"
   ]
  },
  {
   "cell_type": "code",
   "execution_count": 66,
   "id": "1959f86e-cb14-4b3f-a660-3bd11204ed57",
   "metadata": {},
   "outputs": [
    {
     "ename": "AttributeError",
     "evalue": "'WebElement' object has no attribute 'area'",
     "output_type": "error",
     "traceback": [
      "\u001b[0;31m---------------------------------------------------------------------------\u001b[0m",
      "\u001b[0;31mAttributeError\u001b[0m                            Traceback (most recent call last)",
      "Cell \u001b[0;32mIn [66], line 1\u001b[0m\n\u001b[0;32m----> 1\u001b[0m \u001b[43melem\u001b[49m\u001b[38;5;241;43m.\u001b[39;49m\u001b[43marea\u001b[49m\n",
      "\u001b[0;31mAttributeError\u001b[0m: 'WebElement' object has no attribute 'area'"
     ]
    }
   ],
   "source": []
  },
  {
   "cell_type": "code",
   "execution_count": 67,
   "id": "fa84279f-9363-4827-8b26-f317b111f3b2",
   "metadata": {},
   "outputs": [
    {
     "data": {
      "text/plain": [
       "{'height': 145, 'width': 984}"
      ]
     },
     "execution_count": 67,
     "metadata": {},
     "output_type": "execute_result"
    }
   ],
   "source": [
    "elem.size"
   ]
  },
  {
   "cell_type": "code",
   "execution_count": 68,
   "id": "309ec35f-a13f-49a4-9959-727707b0c4db",
   "metadata": {},
   "outputs": [
    {
     "data": {
      "text/plain": [
       "{'height': 145, 'width': 984}"
      ]
     },
     "execution_count": 68,
     "metadata": {},
     "output_type": "execute_result"
    }
   ],
   "source": [
    "cur_size = elem.size\n",
    "cur_size"
   ]
  },
  {
   "cell_type": "code",
   "execution_count": 69,
   "id": "8d876092-3071-426a-a2ef-ee699293c7a7",
   "metadata": {},
   "outputs": [
    {
     "data": {
      "text/plain": [
       "142680"
      ]
     },
     "execution_count": 69,
     "metadata": {},
     "output_type": "execute_result"
    }
   ],
   "source": []
  },
  {
   "cell_type": "code",
   "execution_count": 75,
   "id": "de912711-04d3-48b6-9ed9-105589b5d845",
   "metadata": {},
   "outputs": [
    {
     "data": {
      "text/plain": [
       "7"
      ]
     },
     "execution_count": 75,
     "metadata": {},
     "output_type": "execute_result"
    }
   ],
   "source": [
    "elems = get_displayed_leafs()\n",
    "len(elems)"
   ]
  },
  {
   "cell_type": "code",
   "execution_count": 76,
   "id": "d217e1c2-632e-4c87-8ab6-ea8b5479607f",
   "metadata": {},
   "outputs": [
    {
     "name": "stdout",
     "output_type": "stream",
     "text": [
      "None ImmrTodoList 37312\n",
      "com.immr.immrtodolist:id/inputTitle Masukkan Judul 142680\n",
      "com.immr.immrtodolist:id/text_input_end_icon  20736\n",
      "com.immr.immrtodolist:id/inputDesc Masukkan Deskripsi 256824\n",
      "com.immr.immrtodolist:id/text_input_end_icon  20736\n",
      "com.immr.immrtodolist:id/takeImage  360000\n",
      "com.immr.immrtodolist:id/btnAdd SIMPAN 141696\n"
     ]
    }
   ],
   "source": [
    "for elem in elems:\n",
    "    print(elem.get_attribute('resource-id'), elem.text, elem.area)"
   ]
  },
  {
   "cell_type": "code",
   "execution_count": 77,
   "id": "8697a793-03f0-467d-860b-4209fdd9da67",
   "metadata": {},
   "outputs": [
    {
     "data": {
      "text/plain": [
       "{'height': 144, 'width': 144}"
      ]
     },
     "execution_count": 77,
     "metadata": {},
     "output_type": "execute_result"
    }
   ],
   "source": [
    "elems[2].size"
   ]
  },
  {
   "cell_type": "code",
   "execution_count": 78,
   "id": "d50d3242-a62f-44f2-b526-3578dd0116f9",
   "metadata": {},
   "outputs": [
    {
     "data": {
      "text/plain": [
       "979984"
      ]
     },
     "execution_count": 78,
     "metadata": {},
     "output_type": "execute_result"
    }
   ],
   "source": [
    "total_area = sum([elem.area for elem in elems])\n",
    "total_area"
   ]
  },
  {
   "cell_type": "code",
   "execution_count": 79,
   "id": "d3b319a4-8333-46d3-904c-9ddde4da16b3",
   "metadata": {},
   "outputs": [],
   "source": [
    "driver.quit()"
   ]
  },
  {
   "cell_type": "code",
   "execution_count": null,
   "id": "06a07089-d9e6-4603-9ae7-7107c3080686",
   "metadata": {},
   "outputs": [],
   "source": []
  }
 ],
 "metadata": {
  "kernelspec": {
   "display_name": "Python 3 (ipykernel)",
   "language": "python",
   "name": "python3"
  },
  "language_info": {
   "codemirror_mode": {
    "name": "ipython",
    "version": 3
   },
   "file_extension": ".py",
   "mimetype": "text/x-python",
   "name": "python",
   "nbconvert_exporter": "python",
   "pygments_lexer": "ipython3",
   "version": "3.10.7"
  }
 },
 "nbformat": 4,
 "nbformat_minor": 5
}
