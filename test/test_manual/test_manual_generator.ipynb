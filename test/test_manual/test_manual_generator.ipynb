{
 "cells": [
  {
   "cell_type": "code",
   "execution_count": 1,
   "id": "01428257-8c61-467b-92f0-3a3d643bfe27",
   "metadata": {},
   "outputs": [
    {
     "data": {
      "text/plain": [
       "PosixPath('/Users/gp/Dropbox/projects/qa_scenarios/test/test_manual')"
      ]
     },
     "execution_count": 1,
     "metadata": {},
     "output_type": "execute_result"
    }
   ],
   "source": [
    "from pathlib import Path\n",
    "current_folder = globals()['_dh'][0] if '_dh' in globals() else Path(__file__).parent\n",
    "current_folder"
   ]
  },
  {
   "cell_type": "code",
   "execution_count": 2,
   "id": "b81011c3-31c5-42a8-9532-1c8f95b1d388",
   "metadata": {},
   "outputs": [],
   "source": [
    "from os import listdir, makedirs\n",
    "from os.path import isfile, splitext\n",
    "from datetime import datetime"
   ]
  },
  {
   "cell_type": "markdown",
   "id": "b23f022f-d056-400c-ab0a-c78aa05b2f16",
   "metadata": {},
   "source": [
    "### INPUTS"
   ]
  },
  {
   "cell_type": "code",
   "execution_count": 3,
   "id": "9f4b2c45-6721-4638-a282-ab257d32e069",
   "metadata": {},
   "outputs": [
    {
     "data": {
      "text/plain": [
       "('test/features/api/security_on_resources.feature', '2022-12-25')"
      ]
     },
     "execution_count": 3,
     "metadata": {},
     "output_type": "execute_result"
    }
   ],
   "source": [
    "fullpath = '''\n",
    "test/features/api/security_on_resources.feature\n",
    "'''.strip()\n",
    "current_date = datetime.now().date().isoformat()  # ignore timezones, it is not that important\n",
    "fullpath, current_date"
   ]
  },
  {
   "cell_type": "markdown",
   "id": "1a97240f-0a49-4488-960f-0a95b6332558",
   "metadata": {},
   "source": [
    "### body"
   ]
  },
  {
   "cell_type": "code",
   "execution_count": 4,
   "id": "7f16c0ff-b063-4c49-962e-778d52e0af7f",
   "metadata": {},
   "outputs": [
    {
     "data": {
      "text/plain": [
       "'api/security_on_resources.feature'"
      ]
     },
     "execution_count": 4,
     "metadata": {},
     "output_type": "execute_result"
    }
   ],
   "source": [
    "prefix = 'test/features'\n",
    "fullpath = fullpath[len(prefix):] if fullpath.startswith(prefix) else fullpath\n",
    "fullpath = fullpath.lstrip('/')\n",
    "fullpath"
   ]
  },
  {
   "cell_type": "code",
   "execution_count": 5,
   "id": "ed3ddaeb-056d-48b7-b958-a85979d99460",
   "metadata": {},
   "outputs": [
    {
     "data": {
      "text/plain": [
       "('api', 'security_on_resources.feature')"
      ]
     },
     "execution_count": 5,
     "metadata": {},
     "output_type": "execute_result"
    }
   ],
   "source": [
    "path = str(Path(fullpath).parent)\n",
    "file = str(Path(fullpath).name)\n",
    "path, file"
   ]
  },
  {
   "cell_type": "code",
   "execution_count": 6,
   "id": "2a391799-fc7c-4366-9192-6b7b3fdd6994",
   "metadata": {},
   "outputs": [
    {
     "data": {
      "text/plain": [
       "('security_on_resources', '.feature')"
      ]
     },
     "execution_count": 6,
     "metadata": {},
     "output_type": "execute_result"
    }
   ],
   "source": [
    "base_filename, file_ext = splitext(file)\n",
    "base_filename, file_ext"
   ]
  },
  {
   "cell_type": "code",
   "execution_count": 7,
   "id": "ad4ab445-2fef-4d15-99af-a2111cfc2c29",
   "metadata": {},
   "outputs": [
    {
     "data": {
      "text/plain": [
       "'security_on_resources_2022-12-25'"
      ]
     },
     "execution_count": 7,
     "metadata": {},
     "output_type": "execute_result"
    }
   ],
   "source": [
    "filename_with_date = f'{base_filename}_{current_date}'\n",
    "filename_with_date"
   ]
  },
  {
   "cell_type": "code",
   "execution_count": 8,
   "id": "f2070048-6262-4fca-95ef-079e8368c35b",
   "metadata": {},
   "outputs": [],
   "source": [
    "feature_path = Path(path)\n",
    "feature_file = Path(file)"
   ]
  },
  {
   "cell_type": "code",
   "execution_count": 9,
   "id": "b9c25e46-582e-4704-ba31-809e07f60cbb",
   "metadata": {},
   "outputs": [
    {
     "data": {
      "text/plain": [
       "PosixPath('test/test_manual/api/security_on_resources_2022-12-25.py')"
      ]
     },
     "execution_count": 9,
     "metadata": {},
     "output_type": "execute_result"
    }
   ],
   "source": [
    "# only to be used by the comment for execution as it is generated implicitly when we want to generate the output\n",
    "script_target = Path(current_folder.parts[-2]) / Path(current_folder.parts[-1]) / Path(feature_path) / Path(f'{filename_with_date}.py')\n",
    "script_target"
   ]
  },
  {
   "cell_type": "code",
   "execution_count": 10,
   "id": "dc17102e-4bb1-4f10-9589-694cc71fa70d",
   "metadata": {},
   "outputs": [
    {
     "data": {
      "text/plain": [
       "'# ./pytest_script/pytest_manual.py test/test_manual/api/security_on_resources_2022-12-25.py'"
      ]
     },
     "execution_count": 10,
     "metadata": {},
     "output_type": "execute_result"
    }
   ],
   "source": [
    "str_execution_script = f'# ./pytest_script/pytest_manual.py {script_target}'\n",
    "str_execution_script"
   ]
  },
  {
   "cell_type": "code",
   "execution_count": 11,
   "id": "5be19c65-6610-4c04-9c0b-bda8cb774a75",
   "metadata": {},
   "outputs": [
    {
     "data": {
      "text/plain": [
       "PosixPath('/Users/gp/Dropbox/projects/qa_scenarios/test/features')"
      ]
     },
     "execution_count": 11,
     "metadata": {},
     "output_type": "execute_result"
    }
   ],
   "source": [
    "feature_dir = Path('../features/').resolve()\n",
    "feature_dir"
   ]
  },
  {
   "cell_type": "code",
   "execution_count": 12,
   "id": "5c68b398-8dfb-462b-92e6-ceb847e842bb",
   "metadata": {},
   "outputs": [
    {
     "data": {
      "text/plain": [
       "PosixPath('/Users/gp/Dropbox/projects/qa_scenarios/test/features/api/security_on_resources.feature')"
      ]
     },
     "execution_count": 12,
     "metadata": {},
     "output_type": "execute_result"
    }
   ],
   "source": [
    "fullpath = feature_dir / feature_path / feature_file\n",
    "fullpath"
   ]
  },
  {
   "cell_type": "code",
   "execution_count": 13,
   "id": "ff7dbec2-8762-4c45-a5f7-041f27851d41",
   "metadata": {},
   "outputs": [],
   "source": [
    "assert isfile(fullpath), f'{fullpath} should be an actual existing file'"
   ]
  },
  {
   "cell_type": "code",
   "execution_count": 14,
   "id": "bdd9f438-4cfb-4473-b3e7-791d9dceb589",
   "metadata": {},
   "outputs": [],
   "source": [
    "prefix = 'Scenario:'"
   ]
  },
  {
   "cell_type": "code",
   "execution_count": 15,
   "id": "ad68f90a-18fb-4a63-a522-9669ca7f2424",
   "metadata": {},
   "outputs": [],
   "source": [
    "with open(fullpath) as fp:\n",
    "    lines = [line.strip()[len(prefix):].strip() \n",
    "             for line in fp.readlines() if line.strip().startswith('Scenario:')]"
   ]
  },
  {
   "cell_type": "code",
   "execution_count": 16,
   "id": "9a5c75fa-b505-4254-a91f-81c3bb764543",
   "metadata": {},
   "outputs": [
    {
     "data": {
      "text/plain": [
       "(19,\n",
       " ['Verify that using a user who has not verified his/her email address but is attempting to verify his/her mobile phone number, this will yield a corresponding error message that will explain to the user of what actions he/she needs to take in order to proceed with the verification of the mobile phone number',\n",
       "  'Verify that a user who has verified his/her email address when attempting to verify his/her mobile phone number, this will be successful given that the phone number is valid and the 4 digit code that the user received as OTP was used properly'])"
      ]
     },
     "execution_count": 16,
     "metadata": {},
     "output_type": "execute_result"
    }
   ],
   "source": [
    "len(lines), lines[:2]"
   ]
  },
  {
   "cell_type": "code",
   "execution_count": 17,
   "id": "41349a9e-157a-4ecc-ba63-5abb1bdc8f25",
   "metadata": {},
   "outputs": [
    {
     "name": "stdout",
     "output_type": "stream",
     "text": [
      "from test.test_manual import mark_scenario, scenario_to_test_func_name, validate_results_uniqueness, process_result\n",
      "assert mark_scenario is not None\n",
      "from os.path import isfile\n"
     ]
    }
   ],
   "source": [
    "str_imports = '''from test.test_manual import mark_scenario, scenario_to_test_func_name, validate_results_uniqueness, process_result\n",
    "assert mark_scenario is not None\n",
    "from os.path import isfile'''\n",
    "print(str_imports)"
   ]
  },
  {
   "cell_type": "code",
   "execution_count": 18,
   "id": "92db6e6e-35c8-4ef5-b6b6-e1613c26f1d5",
   "metadata": {},
   "outputs": [
    {
     "name": "stdout",
     "output_type": "stream",
     "text": [
      "FEATURE_FILE = '/Users/gp/Dropbox/projects/qa_scenarios/test/features/api/security_on_resources.feature'\n",
      "assert isfile(FEATURE_FILE)\n"
     ]
    }
   ],
   "source": [
    "str_feature_file = f\"\"\"FEATURE_FILE = '{fullpath}'\n",
    "assert isfile(FEATURE_FILE)\"\"\"\n",
    "print(str_feature_file)"
   ]
  },
  {
   "cell_type": "code",
   "execution_count": 19,
   "id": "551d4818-8241-4da7-af18-98e47afc88e9",
   "metadata": {},
   "outputs": [],
   "source": [
    "str_results = 'results = [\\n'\n",
    "for line in lines:\n",
    "    str_results += f\"['''{line}''', None],\\n\"\n",
    "str_results += ']'"
   ]
  },
  {
   "cell_type": "code",
   "execution_count": 20,
   "id": "312829a6-14ad-403b-8739-cc0a38abbb98",
   "metadata": {},
   "outputs": [
    {
     "name": "stdout",
     "output_type": "stream",
     "text": [
      "results = [\n",
      "['''Verify that using a user who has not verified his/her email address but is attempting to verify his/her mobile phone number, this will yield a corresponding error message that will exp\n"
     ]
    }
   ],
   "source": [
    "print(str_results[:200])"
   ]
  },
  {
   "cell_type": "code",
   "execution_count": 21,
   "id": "de59090c-e4cf-41ba-b563-f5c813753a6b",
   "metadata": {},
   "outputs": [
    {
     "name": "stdout",
     "output_type": "stream",
     "text": [
      "for result in validate_results_uniqueness(results):\n",
      "    is_pass, reason = process_result(result)\n",
      "    exec(f\"{scenario_to_test_func_name(result[0])} = mark_scenario(FEATURE_FILE, '''{result[0]}''', {is_pass}, {reason})\")\n",
      "\n"
     ]
    }
   ],
   "source": [
    "str_function_results = \"\"\"for result in validate_results_uniqueness(results):\n",
    "    is_pass, reason = process_result(result)\n",
    "    exec(f\"{scenario_to_test_func_name(result[0])} = mark_scenario(FEATURE_FILE, '''{result[0]}''', {is_pass}, {reason})\")\\n\"\"\"\n",
    "print(str_function_results)"
   ]
  },
  {
   "cell_type": "code",
   "execution_count": 22,
   "id": "c2ebbb31-7a71-4b22-b41d-20028c604683",
   "metadata": {},
   "outputs": [
    {
     "name": "stdout",
     "output_type": "stream",
     "text": [
      "# ./pytest_script/pytest_manual.py test/test_manual/api/security_on_resources_2022-12-25.py\n",
      "\n",
      "from test.test_manual import mark_scenario, scenario_to_test_func_name, validate_results_uniqueness, process_result\n",
      "assert mark_scenario is not None\n",
      "from os.path import isfile\n",
      "\n",
      "FEATURE_FILE = '/Users/gp/Dropbox/projects/qa_scenarios/test/features/api/security_on_resources.feature'\n",
      "assert isfile(FEATURE_FILE)\n",
      "\n",
      "results = [\n",
      "['''Verify that using a user who has not verified his/her email address but is attempting to verify his/her mobile phone number, this will yield a corresponding error message that will explain to the user of what actions he/she needs to take in order to proceed with the verification of the mobile phone number''', None],\n",
      "['''Verify that a user who has verified his/her email address when attempting to verify his/her mobile phone number, this will be successful given that the phone number is valid and the 4 digit code that the user received as OTP was used properly''', None],\n",
      "['''Verify that a user who has logged in using any Social Network, who has not yet verified his phone number, he is allowed to verify his a phone number''', None],\n",
      "['''Verify that a user who has not verified his phone number when attempting either from the Report button of the Home screen or from the plus-icon button of MyCity screen, he will receive an error message explaining to him that first his phone number needs to be verified before submitting any report''', None],\n",
      "['''Verify that a user who has already verified his phone number, even if he updated his email and currently is pending for verification, he will still be allowed to send as many Reports as he wishes to''', None],\n",
      "['''Verify that for a single user, who has already executed 10 requests for verification of any email addresses, executing an 11th request for verification of an email address, within a month should NOT be allowed, and the user should receive an error message explaining to him when the next attempt to verify an email address can happen''', None],\n",
      "['''Verify that for a single user, executing 10 requests for verification of some phone number, within a month should be allowed''', None],\n",
      "['''Verify that for a single user, who has executed 9 requests for verification of some email addresses, plus 9 requests for verification of some phone numbers, then attempting to execute a 10th request for the verification of an email address should be allowed''', None],\n",
      "['''Verify that for a single user, who has executed 10 requests for verification of some email addresses, plus 9 requests for verification of some phone numbers, should NOT be allowed to execute a verification of an email address but should be allowed to execute a verification of some phone number''', None],\n",
      "['''Verify that for a single user, who has executed 10 requests for verification of some email addresses, plus 10 requests for verification of some phone numbers, should NOT be allowed to execute a verification of an email address NOR he should be allowed to execute a verification of any phone number, for within the month''', None],\n",
      "['''Verify that for a single user, who has executed 10 requests for verification of some email addresses, plus 10 requests for verification of some phone numbers, if the period of the One Month has passed, then the user will be allowed to execute a verification both for some email address and for some phone number''', None],\n",
      "['''Verify that a user who had verify his/her email address, but has changed his/her email address, and thus this is deemed as no longer valid, if he has not yet verified his phone number, he will NOT be allowed to verify it until the new/updated email is also verified''', None],\n",
      "['''Verify that a user who had verify his/her email address, but has changed his/her email address, and thus this is deemed as no longer valid, if he had already verified his phone number, then he will NOT be forced to verify his phone number once more''', None],\n",
      "['''Verify that a user who has logged in using any Social Network, who has already verified his phone number, he is allowed to verify a second phone number given, which will replace the first one''', None],\n",
      "['''Verify that a user who has logged in using any Social Network, who has already verified his phone number, then this user is allowed to create/file as many Reports as he wishes to''', None],\n",
      "['''Verify that for a single user, executing 10 requests for verification of some email addresses, within a month should be allowed''', None],\n",
      "['''Verify that for a single user, who has already executed 10 requests for verification of any phone numbers, executing an 11th request for verification of a phone number, within a month should NOT be allowed, and the user should receive an error message explaining to him when the next attempt to verify his phone number can happen''', None],\n",
      "['''Verify that a user who has logged in using any Social Network, who has not yet verified his phone number, then this user is NOT allowed to create/file any Report''', None],\n",
      "['''Verify that a user who has already verified his phone number, if he attempts to reverify the exact same phone numbers, an informative message should explain to the user that he cannot re-verify the same phone number or he will not be able to proceed with the verification of the phone number at all (the submit button will be disabled)''', None],\n",
      "]\n",
      "\n",
      "for result in validate_results_uniqueness(results):\n",
      "    is_pass, reason = process_result(result)\n",
      "    exec(f\"{scenario_to_test_func_name(result[0])} = mark_scenario(FEATURE_FILE, '''{result[0]}''', {is_pass}, {reason})\")\n",
      "\n"
     ]
    }
   ],
   "source": [
    "file_str = '\\n\\n'.join([str_execution_script, str_imports, str_feature_file, str_results, str_function_results])\n",
    "print(file_str)"
   ]
  },
  {
   "cell_type": "markdown",
   "id": "5b4537ea-0684-4f48-886c-b27c0ae617ab",
   "metadata": {},
   "source": [
    "### Output"
   ]
  },
  {
   "cell_type": "code",
   "execution_count": 23,
   "id": "1f54031b-83e4-4ab3-a2dc-dbff2c486861",
   "metadata": {},
   "outputs": [],
   "source": [
    "makedirs(feature_path, exist_ok=True)"
   ]
  },
  {
   "cell_type": "code",
   "execution_count": 24,
   "id": "88e6c117-a363-4104-86a3-169507fc47e5",
   "metadata": {},
   "outputs": [
    {
     "data": {
      "text/plain": [
       "PosixPath('/Users/gp/Dropbox/projects/qa_scenarios/test/test_manual/api/security_on_resources_2022-12-25.py')"
      ]
     },
     "execution_count": 24,
     "metadata": {},
     "output_type": "execute_result"
    }
   ],
   "source": [
    "output = Path(f'./{feature_path}/{filename_with_date}.py').resolve()\n",
    "output"
   ]
  },
  {
   "cell_type": "code",
   "execution_count": 25,
   "id": "aab7ad23-4c5c-4d1c-95f0-9279bc0efa8a",
   "metadata": {},
   "outputs": [],
   "source": [
    "assert not isfile(output), f'please delete manually the file {output} if you need, this script will not overwrite it automatically for your own safety'"
   ]
  },
  {
   "cell_type": "code",
   "execution_count": 26,
   "id": "dd6fdda1-69b3-45c7-b86b-265c4cf6dae0",
   "metadata": {},
   "outputs": [],
   "source": [
    "with open(output, 'w') as fp:\n",
    "    fp.write(file_str)"
   ]
  },
  {
   "cell_type": "code",
   "execution_count": null,
   "id": "17cc822f-c809-436b-a7bc-d4aaf0549da2",
   "metadata": {},
   "outputs": [],
   "source": []
  }
 ],
 "metadata": {
  "kernelspec": {
   "display_name": "Python 3 (ipykernel)",
   "language": "python",
   "name": "python3"
  },
  "language_info": {
   "codemirror_mode": {
    "name": "ipython",
    "version": 3
   },
   "file_extension": ".py",
   "mimetype": "text/x-python",
   "name": "python",
   "nbconvert_exporter": "python",
   "pygments_lexer": "ipython3",
   "version": "3.10.7"
  }
 },
 "nbformat": 4,
 "nbformat_minor": 5
}
