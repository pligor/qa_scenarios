{
 "cells": [
  {
   "cell_type": "code",
   "execution_count": 3,
   "id": "f6725f08-0476-470e-a4c2-576e09851f29",
   "metadata": {},
   "outputs": [],
   "source": [
    "from assert_feature_files_integrity import act_on_every_file, assert_single_feature_per_file, assert_all_comments_in_separate_line, \\\n",
    "    assert_only_valid_priority_tags_are_used, current_folder"
   ]
  },
  {
   "cell_type": "code",
   "execution_count": 4,
   "id": "894d535c-34e9-4269-ba5c-5739c7dfdcc8",
   "metadata": {},
   "outputs": [],
   "source": [
    "act_on_every_file(current_folder, assert_all_comments_in_separate_line)"
   ]
  },
  {
   "cell_type": "code",
   "execution_count": 5,
   "id": "fa01141c-12c8-4079-9c59-4e9331e8c396",
   "metadata": {},
   "outputs": [],
   "source": [
    "act_on_every_file(current_folder, assert_single_feature_per_file)"
   ]
  },
  {
   "cell_type": "code",
   "execution_count": 6,
   "id": "2e9bd2a5-726b-44c7-b674-0f54aa5617b8",
   "metadata": {},
   "outputs": [],
   "source": [
    "act_on_every_file(current_folder, assert_only_valid_priority_tags_are_used)"
   ]
  },
  {
   "cell_type": "code",
   "execution_count": 7,
   "id": "2d7f3648-5535-4817-94d3-8e2a2286117e",
   "metadata": {},
   "outputs": [],
   "source": [
    "# sample_file = '/Users/gp/Dropbox/projects/qa_scenarios/test/features/sample_feature.feature'"
   ]
  },
  {
   "cell_type": "code",
   "execution_count": null,
   "id": "57fc3daa-2134-4f07-b906-db49d6bed8e2",
   "metadata": {},
   "outputs": [],
   "source": []
  }
 ],
 "metadata": {
  "kernelspec": {
   "display_name": "Python 3 (ipykernel)",
   "language": "python",
   "name": "python3"
  },
  "language_info": {
   "codemirror_mode": {
    "name": "ipython",
    "version": 3
   },
   "file_extension": ".py",
   "mimetype": "text/x-python",
   "name": "python",
   "nbconvert_exporter": "python",
   "pygments_lexer": "ipython3",
   "version": "3.10.7"
  }
 },
 "nbformat": 4,
 "nbformat_minor": 5
}
