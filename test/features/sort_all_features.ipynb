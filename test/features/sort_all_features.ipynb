{
 "cells": [
  {
   "cell_type": "code",
   "execution_count": 1,
   "id": "f6725f08-0476-470e-a4c2-576e09851f29",
   "metadata": {},
   "outputs": [
    {
     "data": {
      "text/plain": [
       "PosixPath('/Users/gp/Dropbox/projects/qa_scenarios/test/features')"
      ]
     },
     "execution_count": 1,
     "metadata": {},
     "output_type": "execute_result"
    }
   ],
   "source": [
    "from pathlib import Path\n",
    "current_folder = globals()['_dh'][0] if '_dh' in globals() else Path(__file__).parent\n",
    "current_folder"
   ]
  },
  {
   "cell_type": "markdown",
   "id": "9ee8cfaa-35a1-4b23-a766-690ce09c9cb7",
   "metadata": {},
   "source": [
    "## Preprocess feature files"
   ]
  },
  {
   "cell_type": "code",
   "execution_count": 2,
   "id": "4bad1754-b404-45e9-a318-2df68addde4b",
   "metadata": {},
   "outputs": [
    {
     "data": {
      "text/plain": [
       "['prio_trivial', 'prio_minor', 'prio_major', 'prio_critical']"
      ]
     },
     "execution_count": 2,
     "metadata": {},
     "output_type": "execute_result"
    }
   ],
   "source": [
    "from assert_feature_files_integrity import act_on_every_file, assert_single_feature_per_file, assert_all_comments_in_separate_line, \\\n",
    "    assert_only_valid_priority_tags_are_used, priority_tags\n",
    "priority_tags"
   ]
  },
  {
   "cell_type": "code",
   "execution_count": 3,
   "id": "81b00901-ea97-4731-9b17-f7d36dbd2a0d",
   "metadata": {},
   "outputs": [],
   "source": [
    "act_on_every_file(current_folder, assert_all_comments_in_separate_line)"
   ]
  },
  {
   "cell_type": "code",
   "execution_count": 4,
   "id": "07898732-0a1f-4781-a357-de25887b8727",
   "metadata": {},
   "outputs": [],
   "source": [
    "act_on_every_file(current_folder, assert_single_feature_per_file)"
   ]
  },
  {
   "cell_type": "code",
   "execution_count": 5,
   "id": "b26841a6-1247-4fcd-a3f5-785f607ec672",
   "metadata": {},
   "outputs": [],
   "source": [
    "act_on_every_file(current_folder, assert_only_valid_priority_tags_are_used)"
   ]
  },
  {
   "cell_type": "markdown",
   "id": "bfbf13df-d2eb-47e4-b280-5b35082c5c20",
   "metadata": {},
   "source": [
    "# MAIN"
   ]
  },
  {
   "cell_type": "code",
   "execution_count": 6,
   "id": "46f2fc79-219a-4724-8f41-ce94052e1037",
   "metadata": {},
   "outputs": [],
   "source": [
    "import re\n",
    "from logging import Logger\n",
    "from os.path import isfile\n",
    "from pathlib import Path\n",
    "from subprocess import Popen\n",
    "from os import environ\n",
    "import pytest\n",
    "from logging import Logger\n",
    "from time import sleep\n",
    "from typing import Final\n",
    "import pytest\n",
    "import glob\n",
    "import pprint\n",
    "pp = pprint.PrettyPrinter(depth=2)\n",
    "import tempfile\n",
    "from os.path import getsize\n",
    "from os import remove"
   ]
  },
  {
   "cell_type": "code",
   "execution_count": 7,
   "id": "68b06db9-5b7d-4fc5-b8fb-85b68c6b3edd",
   "metadata": {},
   "outputs": [],
   "source": [
    "from gherkin.parser import Parser\n",
    "from gherkin.pickles.compiler import Compiler"
   ]
  },
  {
   "cell_type": "code",
   "execution_count": 8,
   "id": "c536b4bb-91f0-491e-b7a8-445042bd060b",
   "metadata": {},
   "outputs": [],
   "source": [
    "from uuid_generator import get_uuid_case, uuid_pattern"
   ]
  },
  {
   "cell_type": "code",
   "execution_count": 9,
   "id": "7de15955-706e-483e-a6c3-231d8bc2509d",
   "metadata": {},
   "outputs": [],
   "source": [
    "def get_comments(gd: dict):\n",
    "    \"\"\"make comments a dict by line\"\"\"\n",
    "    \n",
    "    comments = {}\n",
    "    for comment in gd['comments']:\n",
    "        cur_line = comment['location']['line']\n",
    "        comments[cur_line] = comment\n",
    "\n",
    "    assert len(comments) == len(gd['comments']), 'Here we have the assumption that every comment belongs in a single line and that a line cannot have multiple comments'\n",
    "    \n",
    "    return comments"
   ]
  },
  {
   "cell_type": "code",
   "execution_count": 10,
   "id": "6fafad66-66d5-423b-9092-90500f091c64",
   "metadata": {},
   "outputs": [],
   "source": [
    "def feature_child_to_scenario(feature_child):\n",
    "    assert len(feature_child.keys()) == 1 and 'scenario' in feature_child.keys(), \\\n",
    "    'we have no other occurence yet saying that the scenario object will have any other metadata'\n",
    "    scenario = feature_child['scenario'] if 'scenario' in feature_child else feature_child\n",
    "    assert scenario['steps'] == [], 'current implementation works only for scenarios which lack any steps'\n",
    "    assert scenario['examples'] == [], 'current implementation works only for scenarios and not for scenario outlines that also have examples'\n",
    "    return scenario"
   ]
  },
  {
   "cell_type": "code",
   "execution_count": 11,
   "id": "3122c258-56cc-45fe-b9de-32677bdb8c32",
   "metadata": {},
   "outputs": [],
   "source": [
    "def get_min_scenario_line(scenario: dict):\n",
    "    \"\"\"This finds the minimum line of the scenario taking into account the scenario tags but neglecting the comments, which are added by another function\"\"\"\n",
    "    \n",
    "    tags_lines = [tag['location']['line']\n",
    "                  for tag in scenario['tags']]\n",
    "    \n",
    "    scenario_line = scenario['location']['line']\n",
    "    \n",
    "    if len(tags_lines) > 0:\n",
    "        min_tags_line = min(tags_lines)\n",
    "        assert min_tags_line < scenario_line, 'because we are under the assumption that a beautifully created feature file will always have any tags above the scenario'\n",
    "        return min(min_tags_line, scenario_line)\n",
    "    else:\n",
    "        return scenario_line"
   ]
  },
  {
   "cell_type": "code",
   "execution_count": 12,
   "id": "9efeab30-2e2b-465a-9d68-75a30fc1e887",
   "metadata": {},
   "outputs": [],
   "source": [
    "def get_next_tags_column(tag_line: int, scenario: dict):\n",
    "    tags_of_line = [tag for tag in scenario['tags'] if tag['location']['line'] == tag_line]\n",
    "\n",
    "    cols_tags_line = [tag['location']['column'] for tag in tags_of_line]\n",
    "    \n",
    "    max_col = scenario['location']['column'] if len(cols_tags_line) == 0 else max(cols_tags_line)\n",
    "\n",
    "    last_tags = [tag for tag in tags_of_line if tag['location']['column'] == max_col]\n",
    "    if len(last_tags) == 0:\n",
    "        return max_col\n",
    "    elif len(last_tags) == 1:\n",
    "        last_tag = last_tags[0]\n",
    "        return max_col + len(last_tag['name']) + 1\n",
    "    else:\n",
    "        raise Exception('Only one tag is expected to match the current max column unless we have no tags at all')"
   ]
  },
  {
   "cell_type": "code",
   "execution_count": 13,
   "id": "327b3b1a-734d-4a22-a7de-fa485b23b074",
   "metadata": {},
   "outputs": [],
   "source": [
    "def add_comment_in_scenario(scen: dict, comms, line_no, key='comments'):\n",
    "    scen.setdefault(key, [])\n",
    "    scen[key].append(comms[line_no])\n",
    "    del comms[line_no]"
   ]
  },
  {
   "cell_type": "code",
   "execution_count": 14,
   "id": "4585cda6-dd30-4073-95e7-027dc129bc21",
   "metadata": {},
   "outputs": [],
   "source": [
    "def add_above_scenario_comments_and_find_min_line(scenario: dict, comments: dict):\n",
    "    \"\"\"Bring comments above scenario, inside the scenario_line\"\"\"\n",
    "    \n",
    "    min_line = get_min_scenario_line(scenario)\n",
    "    \n",
    "    comm_lines = []\n",
    "    cur_line = min_line - 1\n",
    "    while cur_line in comments:\n",
    "        comm_lines[:0] = [cur_line]\n",
    "        cur_line -= 1\n",
    "        \n",
    "    scenario['min_line'] = cur_line + 1\n",
    "    \n",
    "    for line_no in comm_lines:\n",
    "        add_comment_in_scenario(scen=scenario, comms=comments, line_no=line_no, key='comments_above')\n",
    "            \n",
    "    return scenario"
   ]
  },
  {
   "cell_type": "code",
   "execution_count": 15,
   "id": "106c6193-344d-429f-adc4-bfe9fec588eb",
   "metadata": {},
   "outputs": [],
   "source": [
    "def set_feature_comments(feature: dict, comments: dict, scenarios: list):\n",
    "    first_scenario_min_line = scenarios[0]['min_line']\n",
    "    keys = [line_no for line_no in comments.keys() if line_no < first_scenario_min_line]\n",
    "    feature['comments'] = [comments[key] for key in keys]\n",
    "    for key in keys:\n",
    "        del comments[key]"
   ]
  },
  {
   "cell_type": "code",
   "execution_count": 16,
   "id": "7821f28b-c7ac-4e14-a92e-85bd147ecbcc",
   "metadata": {},
   "outputs": [],
   "source": [
    "def add_comments_in_scenarios(scenarios: list, comments: dict):\n",
    "    \"\"\"Add the rest of the comments in scenarios\n",
    "    based on the min line of each scenario defined\"\"\"\n",
    "    \n",
    "    next_scenarios = scenarios[1:] + [None]\n",
    "    assert len(scenarios) == len(next_scenarios)\n",
    "\n",
    "    for scenario, next_scenario in zip(scenarios, next_scenarios):\n",
    "        line_start = scenario['min_line']\n",
    "        if next_scenario is None:\n",
    "            if len(comments) > 0 :\n",
    "                line_stop = max(comments.keys())\n",
    "            else:\n",
    "                break #nothing else to do here\n",
    "        else:\n",
    "            line_stop = next_scenario['min_line'] - 1\n",
    "         \n",
    "        line_nos = [line_no for line_no in comments.keys() if line_start <= line_no <= line_stop]\n",
    "\n",
    "        for cur_line_no in line_nos:\n",
    "            add_comment_in_scenario(scen=scenario, comms=comments, line_no=cur_line_no, key='comments')\n",
    "\n",
    "        # print(line_start, line_stop, line_nos)\n",
    "\n",
    "    assert len(comments) == 0, 'all comments are expected to be assigned by now'"
   ]
  },
  {
   "cell_type": "code",
   "execution_count": 17,
   "id": "0f7c481d-2bc0-46c4-b06c-4dfb3bfcc379",
   "metadata": {},
   "outputs": [],
   "source": [
    "def is_smoke_scenario(scenario: dict):\n",
    "    return any(['smoke' in tag['name'].lower() for tag in scenario['tags']])"
   ]
  },
  {
   "cell_type": "code",
   "execution_count": 18,
   "id": "3cbe80af-e487-4ede-970b-5a07b0ca9245",
   "metadata": {},
   "outputs": [],
   "source": [
    "def separate_smoke_scenarios(scenarios: list):\n",
    "    \"\"\"Separate Scenarios who have smoke tag vs those who do not\"\"\"\n",
    "    \n",
    "    smokes = []\n",
    "    non_smokes = []\n",
    "    for scenario in scenarios:\n",
    "        if is_smoke_scenario(scenario):\n",
    "            smokes.append(scenario)\n",
    "        else:\n",
    "            non_smokes.append(scenario)\n",
    "\n",
    "    assert len(smokes) + len(non_smokes) == len(scenarios)\n",
    " \n",
    "    return smokes, non_smokes"
   ]
  },
  {
   "cell_type": "code",
   "execution_count": 19,
   "id": "132e42d6-c43e-44de-8c79-2cfcfb1e6634",
   "metadata": {},
   "outputs": [],
   "source": [
    "def get_prio_value_of_scenario(scenario: dict):\n",
    "    \"\"\"Those scenarios which have no priority tag will be put at the bottom, even below trivial priority\"\"\"\n",
    "    \n",
    "    tag_names = [tag['name'].lstrip('@') for tag in scenario['tags'] if tag['name'].startswith('@')]\n",
    "    assert len(scenario['tags']) == len(tag_names), 'all tags are expected to start with the @ symbol'\n",
    "    prio_tags = [tag_name for tag_name in tag_names if tag_name in priority_tags]\n",
    "    assert len(prio_tags) <= 1, 'only one priority tag shall be found in each scenario or none'\n",
    "    return priority_tags.index(prio_tags[0])+1 if len(prio_tags) == 1 else 0"
   ]
  },
  {
   "cell_type": "code",
   "execution_count": 20,
   "id": "373435f9-8627-49e1-876e-8983875bf544",
   "metadata": {},
   "outputs": [],
   "source": [
    "def get_sorted_scenarios(smokes: list, non_smokes: list):\n",
    "    sorted_smokes = sorted(smokes, key=get_prio_value_of_scenario, reverse=True)\n",
    "    sorted_non_smokes = sorted(non_smokes, key=get_prio_value_of_scenario, reverse=True)\n",
    "    return sorted_smokes + sorted_non_smokes"
   ]
  },
  {
   "cell_type": "code",
   "execution_count": 21,
   "id": "80a9449a-ce0d-4e46-8071-77656c764a95",
   "metadata": {},
   "outputs": [],
   "source": [
    "class Lines(object):\n",
    "    \"\"\"A class to construct the output lines\"\"\"\n",
    "    \n",
    "    def __init__(self):\n",
    "        self.lines = {}\n",
    "\n",
    "    def append_line(self, line_no: int, text: str, column: int = 1):\n",
    "        \"\"\"This means appending data to a particular line and not appending extra lines\"\"\"\n",
    "        self.lines.setdefault(line_no, '')\n",
    "        first_time_space_is_respected = ((' ' * (column-1)) + text)\n",
    "        any_other_time_no_space = text.strip()\n",
    "        final_text = first_time_space_is_respected if self.lines[line_no] == '' else f' {any_other_time_no_space}'\n",
    "        self.lines[line_no] += final_text\n",
    "        \n",
    "    def get_max_line(self):\n",
    "        return max(self.lines.keys())\n",
    "    \n",
    "    def render_output(self):\n",
    "        output_lines = []\n",
    "        lines = self.lines\n",
    "        for line in range(1, max(lines.keys()) +1):\n",
    "            if line in lines:\n",
    "                output_lines.append(lines[line])\n",
    "            else:\n",
    "                output_lines.append('')\n",
    "        return output_lines\n",
    "    \n",
    "    def render_feature_tags(self, feature: dict):\n",
    "        assert feature['language'] == 'en', 'currently this script does not support any other language than English'\n",
    "        for tag in feature['tags']:\n",
    "            loc = tag['location']\n",
    "            self.append_line(line_no = loc['line'], text = tag['name'], column = loc['column'])\n",
    "\n",
    "    def render_feature_body(self, feature: dict):\n",
    "        feature_lines = f\"{feature['keyword']}: {feature['name']}\\n{feature['description']}\".split('\\n')\n",
    "\n",
    "        loc = feature['location']\n",
    "\n",
    "        assert loc['column'] == 1, f'check why in the file {feature_file} the Feature is not at the beginning of the line as it is expected'\n",
    "\n",
    "        line_no = loc['line']\n",
    "\n",
    "        for ii, cur_line_no in enumerate(range(line_no, line_no+len(feature_lines))):\n",
    "            self.append_line(line_no=cur_line_no, text=feature_lines[ii])\n",
    "\n",
    "    def render_feature_comments(self, feature: dict):\n",
    "        comments = feature['comments']\n",
    "\n",
    "        start_line = self.get_max_line() + 2\n",
    "\n",
    "        comment_lines = range(start_line, len(comments)+start_line)\n",
    "\n",
    "        assert len(comment_lines) == len(comments), 'we have one comment per line therefore their length should match'\n",
    "\n",
    "        for comm_line, comment in zip(comment_lines, comments):\n",
    "            self.append_line(line_no=comm_line, text=comment['text'], column=comment['location']['column'])\n",
    "\n",
    "    def render_feature(self, feature: dict):\n",
    "        self.render_feature_tags(feature=feature)\n",
    "        self.render_feature_body(feature=feature)\n",
    "        self.render_feature_comments(feature=feature)\n",
    "\n",
    "    def render_line_gap(self):\n",
    "        self.append_line(line_no=self.get_max_line()+1, text='')\n",
    "\n",
    "    def render_scenario_comments(self, scenario: dict, key = 'comments_above'):\n",
    "        valid_keys = ['comments_above', 'comments']\n",
    "        if key not in valid_keys:\n",
    "            raise Exception(f'comments key can only be: {valid_keys}')\n",
    "\n",
    "        if key not in scenario:\n",
    "            return\n",
    "\n",
    "        comments = scenario[key]\n",
    "\n",
    "        start_line = self.get_max_line() + 1\n",
    "\n",
    "        comment_lines = range(start_line, len(comments)+start_line)\n",
    "\n",
    "        assert len(comment_lines) == len(comments), 'we have one comment per line therefore their length should match'\n",
    "\n",
    "        # scen_col = scenario['location']['column'] #comments have the spaces inside the content\n",
    "\n",
    "        for comm_line, comment in zip(comment_lines, comments):\n",
    "            assert comment['location']['column'] == 1, \\\n",
    "                'for some weird reason the column of the comments are parsed as always 1 even if this is not true'\n",
    "            self.append_line(line_no=comm_line, text=comment['text'])\n",
    "\n",
    "    def render_scenario_tags(self, scenario: dict):\n",
    "        tags = scenario['tags']\n",
    "        \n",
    "        if len(tags) == 0: # neglect if nothing to render\n",
    "            return\n",
    "        \n",
    "        start_line = self.get_max_line() + 1\n",
    "        tag_lines = [tag['location']['line'] for tag in tags]\n",
    "        min_tags_line = min(tag_lines)\n",
    "\n",
    "        lines = [tag_line - min_tags_line + start_line for tag_line in tag_lines]\n",
    "\n",
    "        for line, tag in zip(lines, tags):\n",
    "            self.append_line(line_no = line, text = tag['name'], column = tag['location']['column'])\n",
    "\n",
    "    def render_scenario_body(self, scenario: dict):\n",
    "        scenario_lines = f\"{scenario['keyword']}: {scenario['name']}\\n{scenario['description']}\".split('\\n')\n",
    "\n",
    "        col = scenario['location']['column']\n",
    "\n",
    "        line_no = self.get_max_line() + 1\n",
    "\n",
    "        for ii, cur_line_no in enumerate(range(line_no, line_no + len(scenario_lines))):\n",
    "            cur_col = col if ii == 0 else 1\n",
    "            #respect the column only for the first scenario line and leave scenario's description with whichever tabs it has\n",
    "            self.append_line(line_no=cur_line_no, text=scenario_lines[ii], column=cur_col)\n",
    "\n",
    "    def render_scenario(self, scenario: dict):\n",
    "        self.render_scenario_comments(scenario=scenario, key='comments_above')\n",
    "        self.render_scenario_tags(scenario=scenario)\n",
    "        self.render_scenario_body(scenario=scenario)\n",
    "        self.render_scenario_comments(scenario=scenario, key='comments')"
   ]
  },
  {
   "cell_type": "code",
   "execution_count": 22,
   "id": "2a8da6f4-ccee-497c-ad0f-1d20df1859b1",
   "metadata": {},
   "outputs": [],
   "source": [
    "def render_feature_file(feature, scenarios):\n",
    "    lines = Lines()\n",
    "    lines.render_feature(feature)\n",
    "    lines.render_line_gap()\n",
    "\n",
    "    for scenario in scenarios:\n",
    "        lines.render_scenario(scenario=scenario)\n",
    "        lines.render_line_gap()\n",
    "\n",
    "    return lines.render_output()"
   ]
  },
  {
   "cell_type": "code",
   "execution_count": 23,
   "id": "9087ee7c-20ee-4541-a5de-2016893fa58b",
   "metadata": {},
   "outputs": [],
   "source": [
    "def get_data_size(lines: list):\n",
    "    return sum([len(line) for line in lines])"
   ]
  },
  {
   "cell_type": "code",
   "execution_count": 24,
   "id": "ae017bd8-918a-427c-9683-628565aa7893",
   "metadata": {},
   "outputs": [],
   "source": [
    "def get_file_lines_size(filepath):\n",
    "    with open(filepath) as fp:\n",
    "        lines = fp.read().splitlines()\n",
    "    return get_data_size(lines)"
   ]
  },
  {
   "cell_type": "code",
   "execution_count": 25,
   "id": "cd3de18a-bce0-4286-afc1-37e695726a2a",
   "metadata": {},
   "outputs": [],
   "source": [
    "def safe_append_uuid_tag(scenario: dict):\n",
    "    \"\"\"it changes the scenario object.\n",
    "    returns None if uuid already existed or the generated uuid otherwise\"\"\"\n",
    "    \n",
    "    has_scenario_uuid = any([uuid_pattern.match(tag['name']) is not None for tag in scenario['tags']])\n",
    "    if has_scenario_uuid:\n",
    "        return None\n",
    "    \n",
    "    tag_line = get_min_scenario_line(scenario)\n",
    "    tag_col = get_next_tags_column(tag_line, scenario)\n",
    "    tag_ids = [int(tag['id']) for tag in scenario['tags']]\n",
    "    tag_id = 0 if len(tag_ids) == 0 else max(tag_ids) + 1\n",
    "    \n",
    "    uuid = get_uuid_case()\n",
    "    \n",
    "    tag = {'id': str(tag_id), #only to keep consistency\n",
    "            'location': {'line': tag_line, 'column': tag_col},\n",
    "            'name': uuid}\n",
    "    \n",
    "    scenario['tags'].append(tag)\n",
    "    \n",
    "    return uuid"
   ]
  },
  {
   "cell_type": "code",
   "execution_count": 26,
   "id": "2ccb2881-4cf8-4a7d-9856-2fffde14025f",
   "metadata": {
    "tags": []
   },
   "outputs": [],
   "source": [
    "def reformat_feature_file(feature_file = './sample_feature.feature', add_uuid = False):\n",
    "    \"\"\"Reformatting involves basically the following business logic:\n",
    "    1) Bring at the top all of the smoke scenarios and at the bottom the rest of them\n",
    "    2) Sort all of the scenarios based on priority but maintain the smoke vs non-smoke groups\n",
    "    NO 3) Add uuid to all of the scenarios which are lacking it\n",
    "    returns a list of lines\n",
    "    \"\"\"\n",
    "    \n",
    "    assert isfile(feature_file)\n",
    "    gd = Parser().parse(feature_file)\n",
    "    \n",
    "    comments = get_comments(gd)\n",
    "    \n",
    "    feature = gd['feature']\n",
    "    \n",
    "    scenarios = [feature_child_to_scenario(feat_child)\n",
    "                 for feat_child in feature['children']]\n",
    "    \n",
    "    for scenario in scenarios:\n",
    "        add_above_scenario_comments_and_find_min_line(scenario, comments)\n",
    "        \n",
    "    set_feature_comments(feature, comments, scenarios)\n",
    "    \n",
    "    add_comments_in_scenarios(scenarios, comments)\n",
    "    \n",
    "    smokes, non_smokes = separate_smoke_scenarios(scenarios)\n",
    "    \n",
    "    sorted_scenarios = get_sorted_scenarios(smokes, non_smokes)\n",
    "    assert len(scenarios) == len(sorted_scenarios)\n",
    "    \n",
    "    if add_uuid:\n",
    "        for scenario in sorted_scenarios:\n",
    "            cur_uuid_optional = safe_append_uuid_tag(scenario)\n",
    "            #cur_uuid_optional can be None if uuid already exists\n",
    "            assert cur_uuid_optional is None or uuid_pattern.match(cur_uuid_optional) is not None, \\\n",
    "                f'if safe_append_uuid_tag method is implemented appropriately then this assertion should not have failed with cur_uuid {cur_uuid}'\n",
    "    \n",
    "    return render_feature_file(feature, sorted_scenarios)"
   ]
  },
  {
   "cell_type": "code",
   "execution_count": 27,
   "id": "832c087a-0826-44f5-b531-0d570198a667",
   "metadata": {},
   "outputs": [],
   "source": [
    "def write_in_temp_file(lines: list):\n",
    "    with tempfile.NamedTemporaryFile(delete=False) as tmp:\n",
    "        # print(tmp.name)\n",
    "        for cur_line in lines:\n",
    "            tmp.write((cur_line + '\\n').encode())\n",
    "\n",
    "    return tmp.name"
   ]
  },
  {
   "cell_type": "code",
   "execution_count": 28,
   "id": "b3449e0f-bd71-4bca-b947-f2d527562328",
   "metadata": {},
   "outputs": [],
   "source": [
    "def write_in_output_file(filepath, lines: list):\n",
    "\n",
    "    with open(filepath, 'w') as fp:\n",
    "        for cur_line in lines:\n",
    "            fp.write(cur_line + '\\n')\n",
    "            \n",
    "    return filepath"
   ]
  },
  {
   "cell_type": "code",
   "execution_count": 29,
   "id": "83ad1a4c-5bc4-4606-8a27-8f468f830c21",
   "metadata": {},
   "outputs": [],
   "source": [
    "def assert_similar_in_out_size(feature_file, output_lines: list, bytediff = 0, debug = False, add_uuid = False):\n",
    "    output_size = get_data_size(output_lines)\n",
    "    original_size = get_file_lines_size(feature_file)\n",
    "    if debug:\n",
    "        print(original_size, output_size)\n",
    "\n",
    "    percentage_change = abs(original_size - output_size) / original_size\n",
    "    \n",
    "    if add_uuid:\n",
    "        assert percentage_change < 0.15, f'only 15% or smaller alterations are expected and for feature file {feature_file} the percentage change is {percentage_change*100}%'\n",
    "    else:\n",
    "        assert percentage_change < 0.01, f'only very small alterations are expected and for feature file {feature_file} the percentage change is {percentage_change*100}%'\n",
    "        assert abs(original_size - output_size) <= bytediff, \\\n",
    "            f'for feature file {feature_file} being strict and demanding size with max diff {bytediff} byte did not work, original_size: {original_size}, output_size: {output_size}'"
   ]
  },
  {
   "cell_type": "code",
   "execution_count": 30,
   "id": "db7790ab-5aef-495a-8329-94c3a8ad74ef",
   "metadata": {},
   "outputs": [],
   "source": [
    "def generate_output_file(simulate=True, ext = 'feature', debug=False, add_uuid=False, postfix = 'out'):    \n",
    "    def _gen_out_file(feature_file):\n",
    "        # generate output lines\n",
    "        out_lines = reformat_feature_file(feature_file, add_uuid=add_uuid)\n",
    "\n",
    "        # assert that the size difference between input and output is very small\n",
    "        assert_similar_in_out_size(feature_file, out_lines, debug=debug, add_uuid=add_uuid)\n",
    "\n",
    "        # generate output file and use it as input, the new output should be identical\n",
    "        outpath = write_in_temp_file(out_lines)\n",
    "        again_out_lines = reformat_feature_file(outpath)\n",
    "        assert out_lines == again_out_lines, 'self assert that redoing the sorting yields exactly a file of the same size, since this failed the code needs refactoring'\n",
    "        remove(outpath)\n",
    "\n",
    "        # generate actual output file besides the original one and compare manually\n",
    "        if postfix is None:\n",
    "            output_path = feature_file\n",
    "        else:\n",
    "            output_path = feature_file[:-len(ext)] + f'{postfix}.{ext}'\n",
    "            \n",
    "        if not simulate:\n",
    "            write_in_output_file(output_path, out_lines)\n",
    "\n",
    "        return output_path\n",
    "    return _gen_out_file"
   ]
  },
  {
   "cell_type": "code",
   "execution_count": 31,
   "id": "c3bf00a6-447c-44af-9c5b-8caaceca1680",
   "metadata": {},
   "outputs": [],
   "source": [
    "# feature_file = './sample_feature.feature'\n",
    "sample_feature_file = '/Users/gp/Dropbox/projects/qa_scenarios/test/features/parking/licence_plate_unique_ticket.feature'\n",
    "# fine_file = '/Users/gp/Dropbox/projects/qa_scenarios/test/features/parking/enforcement/fines/fine_calculations.feature'"
   ]
  },
  {
   "cell_type": "code",
   "execution_count": 32,
   "id": "288c445c-675a-4108-a392-fe22e02a7fab",
   "metadata": {},
   "outputs": [],
   "source": [
    "# gd = Parser().parse(sample_feature_file)\n",
    "# gd"
   ]
  },
  {
   "cell_type": "code",
   "execution_count": 33,
   "id": "4cbcd9a2-284d-456b-95e6-a4c1dcf2db21",
   "metadata": {},
   "outputs": [
    {
     "name": "stdout",
     "output_type": "stream",
     "text": [
      "2922 2922\n"
     ]
    },
    {
     "data": {
      "text/plain": [
       "'/Users/gp/Dropbox/projects/qa_scenarios/test/features/parking/licence_plate_unique_ticket.out.feature'"
      ]
     },
     "execution_count": 33,
     "metadata": {},
     "output_type": "execute_result"
    }
   ],
   "source": [
    "generate_output_file(simulate=True, debug=True, add_uuid=False, postfix='out')(sample_feature_file)"
   ]
  },
  {
   "cell_type": "code",
   "execution_count": 34,
   "id": "8dbf93b6-e6b2-4ea3-a6db-0afa2df1cee1",
   "metadata": {},
   "outputs": [],
   "source": [
    "act_on_every_file(current_folder, generate_output_file(simulate=True, debug=False, add_uuid=False), debug=False)\n",
    "#if no assertions fail then simulation was successful, YES leave add_uuid=False for this step"
   ]
  },
  {
   "cell_type": "code",
   "execution_count": 35,
   "id": "a41caa34-97b4-4767-8f09-6c78dde96ddb",
   "metadata": {},
   "outputs": [
    {
     "name": "stdout",
     "output_type": "stream",
     "text": [
      "/Users/gp/Dropbox/projects/qa_scenarios/test/features/sample_feature.feature\n",
      "1374 1575\n",
      "/Users/gp/Dropbox/projects/qa_scenarios/test/features/mobile_app/login.feature\n",
      "6699 7099\n",
      "/Users/gp/Dropbox/projects/qa_scenarios/test/features/mobile_app/email_communication.feature\n",
      "934 1009\n",
      "/Users/gp/Dropbox/projects/qa_scenarios/test/features/mobile_app/registration.feature\n",
      "794 897\n",
      "/Users/gp/Dropbox/projects/qa_scenarios/test/features/mobile_app/privacy_n_support.feature\n",
      "1557 1607\n",
      "/Users/gp/Dropbox/projects/qa_scenarios/test/features/mobile_app/generic_logic.feature\n",
      "2996 3371\n",
      "/Users/gp/Dropbox/projects/qa_scenarios/test/features/mobile_app/main_menu.feature\n",
      "1132 1257\n",
      "/Users/gp/Dropbox/projects/qa_scenarios/test/features/mobile_app/profile/email_verification_swift_parking.feature\n",
      "3212 3587\n",
      "/Users/gp/Dropbox/projects/qa_scenarios/test/features/mobile_app/profile/support_and_privacy_redesign.feature\n",
      "1004 1054\n",
      "/Users/gp/Dropbox/projects/qa_scenarios/test/features/web/no_plus_allowed_in_emails.feature\n",
      "2947 3122\n",
      "/Users/gp/Dropbox/projects/qa_scenarios/test/features/web/captcha_in_public_forms.feature\n",
      "2735 2985\n",
      "/Users/gp/Dropbox/projects/qa_scenarios/test/features/bbb/home_screen_digital_services.feature\n",
      "6506 6906\n",
      "/Users/gp/Dropbox/projects/qa_scenarios/test/features/bbb/news_messages_events_in_homescreen.feature\n",
      "5191 5516\n",
      "/Users/gp/Dropbox/projects/qa_scenarios/test/features/faqs/civil_protection_instructions.feature\n",
      "6171 6621\n",
      "/Users/gp/Dropbox/projects/qa_scenarios/test/features/shared_repairs/dashboard_repairs_table.feature\n",
      "4410 4735\n",
      "/Users/gp/Dropbox/projects/qa_scenarios/test/features/shared_repairs/quotes_options.feature\n",
      "6898 7223\n",
      "/Users/gp/Dropbox/projects/qa_scenarios/test/features/shared_repairs/sr_emailing.feature\n",
      "916 1016\n",
      "/Users/gp/Dropbox/projects/qa_scenarios/test/features/shared_repairs/traders/vat_calculations.feature\n",
      "8927 9377\n",
      "/Users/gp/Dropbox/projects/qa_scenarios/test/features/shared_repairs/tenement/leave_tenement.feature\n",
      "1106 1106\n",
      "/Users/gp/Dropbox/projects/qa_scenarios/test/features/dashboard/service.feature\n",
      "305 330\n",
      "/Users/gp/Dropbox/projects/qa_scenarios/test/features/dashboard/reports.feature\n",
      "625 675\n",
      "/Users/gp/Dropbox/projects/qa_scenarios/test/features/dashboard/general.feature\n",
      "354 379\n",
      "/Users/gp/Dropbox/projects/qa_scenarios/test/features/dashboard/car_park_tariffs/arrival_periods.feature\n",
      "1813 1988\n",
      "/Users/gp/Dropbox/projects/qa_scenarios/test/features/dashboard/messaging/bulk_send_sms.feature\n",
      "3616 3816\n",
      "/Users/gp/Dropbox/projects/qa_scenarios/test/features/dashboard/reports/reports_filtering.feature\n",
      "9150 9725\n",
      "/Users/gp/Dropbox/projects/qa_scenarios/test/features/dashboard/reports/search_id.feature\n",
      "2024 2299\n",
      "/Users/gp/Dropbox/projects/qa_scenarios/test/features/profile/app_version.feature\n",
      "1453 1628\n",
      "/Users/gp/Dropbox/projects/qa_scenarios/test/features/api/security_on_resources.feature\n",
      "6756 7156\n",
      "/Users/gp/Dropbox/projects/qa_scenarios/test/features/parking/parking_zone_regions.feature\n",
      "2471 2746\n",
      "/Users/gp/Dropbox/projects/qa_scenarios/test/features/parking/on_street_ticket_transactions.feature\n",
      "2136 2136\n",
      "/Users/gp/Dropbox/projects/qa_scenarios/test/features/parking/payments_terms.feature\n",
      "3448 3598\n",
      "/Users/gp/Dropbox/projects/qa_scenarios/test/features/parking/licence_plate_unique_ticket.feature\n",
      "2922 3172\n",
      "/Users/gp/Dropbox/projects/qa_scenarios/test/features/parking/human_readable_durations.feature\n",
      "3763 3913\n",
      "/Users/gp/Dropbox/projects/qa_scenarios/test/features/parking/permit/parking_permit_email_text.feature\n",
      "4358 4583\n",
      "/Users/gp/Dropbox/projects/qa_scenarios/test/features/parking/pos/pos_off_street_parking.feature\n",
      "7873 8323\n",
      "/Users/gp/Dropbox/projects/qa_scenarios/test/features/parking/pos/viva_printer.feature\n",
      "5271 5421\n",
      "/Users/gp/Dropbox/projects/qa_scenarios/test/features/parking/pos/hide_invoices.feature\n",
      "2220 2370\n",
      "/Users/gp/Dropbox/projects/qa_scenarios/test/features/parking/pos/future_ticket.feature\n",
      "5439 5964\n",
      "/Users/gp/Dropbox/projects/qa_scenarios/test/features/parking/swift_parking/swift_parking_wallet.feature\n",
      "819 869\n",
      "/Users/gp/Dropbox/projects/qa_scenarios/test/features/parking/swift_parking/cache_car_parks.feature\n",
      "1857 2057\n",
      "/Users/gp/Dropbox/projects/qa_scenarios/test/features/parking/swift_parking/swift_parking_generic.feature\n",
      "317 342\n",
      "/Users/gp/Dropbox/projects/qa_scenarios/test/features/parking/swift_parking/swift_parking.feature\n",
      "739 764\n",
      "/Users/gp/Dropbox/projects/qa_scenarios/test/features/parking/swift_parking/swift_parking_profile.feature\n",
      "5639 6114\n",
      "/Users/gp/Dropbox/projects/qa_scenarios/test/features/parking/enforcement/whitelisted_licence_plate.feature\n",
      "6918 7343\n",
      "/Users/gp/Dropbox/projects/qa_scenarios/test/features/parking/enforcement/login_enforcement.feature\n",
      "937 962\n",
      "/Users/gp/Dropbox/projects/qa_scenarios/test/features/parking/enforcement/location_details_in_enforcement_fines.feature\n",
      "3271 3521\n",
      "/Users/gp/Dropbox/projects/qa_scenarios/test/features/parking/enforcement/egritos.feature\n",
      "3327 3427\n",
      "/Users/gp/Dropbox/projects/qa_scenarios/test/features/parking/enforcement/fines/fine_calculations.feature\n",
      "8939 9589\n",
      "/Users/gp/Dropbox/projects/qa_scenarios/test/features/parking/enforcement/germasogeia/remarks.feature\n",
      "995 1120\n",
      "/Users/gp/Dropbox/projects/qa_scenarios/test/features/parking/enforcement/germasogeia/date_location_photo.feature\n",
      "4156 4531\n",
      "/Users/gp/Dropbox/projects/qa_scenarios/test/features/parking/enforcement/germasogeia/violations.feature\n",
      "1740 1940\n",
      "/Users/gp/Dropbox/projects/qa_scenarios/test/features/parking/enforcement/germasogeia/fine_history.feature\n",
      "4137 4487\n",
      "/Users/gp/Dropbox/projects/qa_scenarios/test/features/parking/enforcement/germasogeia/enforcement_germasogeia.feature\n",
      "1902 2052\n",
      "/Users/gp/Dropbox/projects/qa_scenarios/test/features/parking/enforcement/germasogeia/vehicle_data_presence_status.feature\n",
      "1886 2111\n",
      "/Users/gp/Dropbox/projects/qa_scenarios/test/features/parking/enforcement/germasogeia/receipt.feature\n",
      "3091 3341\n",
      "/Users/gp/Dropbox/projects/qa_scenarios/test/features/parking/enforcement/germasogeia/summary.feature\n",
      "2291 2541\n",
      "/Users/gp/Dropbox/projects/qa_scenarios/test/features/parking/enforcement/germasogeia/regression.feature\n",
      "3046 3296\n",
      "/Users/gp/Dropbox/projects/qa_scenarios/test/features/parking/enforcement/analytics/how_many_controls_per_officer.feature\n",
      "6985 7285\n",
      "/Users/gp/Dropbox/projects/qa_scenarios/test/features/parking/viva/viva_tokenization.feature\n",
      "5501 5826\n"
     ]
    }
   ],
   "source": [
    "act_on_every_file(current_folder, generate_output_file(simulate=False, debug=True, add_uuid=True, postfix=None), debug=True)"
   ]
  },
  {
   "cell_type": "code",
   "execution_count": null,
   "id": "68beb2c0-76d1-4095-8775-9de7305537d6",
   "metadata": {},
   "outputs": [],
   "source": []
  }
 ],
 "metadata": {
  "kernelspec": {
   "display_name": "Python 3 (ipykernel)",
   "language": "python",
   "name": "python3"
  },
  "language_info": {
   "codemirror_mode": {
    "name": "ipython",
    "version": 3
   },
   "file_extension": ".py",
   "mimetype": "text/x-python",
   "name": "python",
   "nbconvert_exporter": "python",
   "pygments_lexer": "ipython3",
   "version": "3.10.7"
  }
 },
 "nbformat": 4,
 "nbformat_minor": 5
}
